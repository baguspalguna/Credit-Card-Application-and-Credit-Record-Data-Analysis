{
 "cells": [
  {
   "cell_type": "markdown",
   "id": "e0134255",
   "metadata": {},
   "source": [
    "Dashboard = https://public.tableau.com/views/CreditCard_17526778396820/Dashboard1?:language=en-US&publish=yes&:sid=&:redirect=auth&:display_count=n&:origin=viz_share_link"
   ]
  },
  {
   "cell_type": "markdown",
   "id": "bee29a85",
   "metadata": {},
   "source": [
    "# 1. Introduction"
   ]
  },
  {
   "cell_type": "markdown",
   "id": "e22cc23b",
   "metadata": {},
   "source": [
    "==========================================\n",
    "\n",
    "**Nama Data Analyst**  : Bagus Dwira Palguna\n",
    "\n",
    "=========================================="
   ]
  },
  {
   "cell_type": "markdown",
   "id": "b69c56c9",
   "metadata": {},
   "source": [
    "# 2. Problem Statement"
   ]
  },
  {
   "cell_type": "markdown",
   "id": "6f7ff949",
   "metadata": {},
   "source": [
    "**Dataset**\n",
    "\n",
    "Sumber dataset : https://www.kaggle.com/datasets/rikdifos/credit-card-approval-prediction?select=application_record.csv\n",
    "\n",
    "\n",
    "**Topik Permasaahan**\n",
    "\n",
    "Credit Card Application Data and Credit Record Data Analysis\n",
    "\n",
    "**Latar Belakang**\n",
    "\n",
    "Sebuah bank bernama American Bank of Consumer (ABC) adalah salah satu bank konsumen di USA. Direktur bisnis mereka ingin mengetahui informasi pengajuan dan penggunaan fasilitas credit card (CC) agar marketing campaign mereka lebih tepat sasaran dan yang terpenting adalah akuisisi produk oleh nasabah tidak meningkatkan NPL. \n",
    "\n",
    "Mereka memiliki 2 dataset. Dataset pertama isinya berasal dari aplikasi pengajuan kredit dari nasabah. Dataset lainnya yaitu credit record yang berisi historis status kredit dari nasabah eksisting. Jumlah baris dan kolom kedua dataset berbeda signifikan karena beda tujuan (pengajuan dan historis).\n",
    "\n",
    "Namun karena jumlah baris dan kolom yang sangat banyak dan data terpisah di kedua dataset, Bank ingin Unit Data Scientist mengolah data tersebut dengan tujuan memberikan gambaran dasar (portofolio dasar) tentang:\n",
    " \n",
    " 1.  Mengetahui distribusi nasabah yang mengajukan CC berdasarkan sumber penghasilan per jenis kelamin, status pernikahan per jenis kelamin, usia, dan riwayat kredit (jika ada).\n",
    "\n",
    " 2.  Mengetahui gambaran kualitas kredit dari calon nasabah.\n",
    "\n",
    " 3.  Faktor apa yang memiliki hubungan dengan riwayat NPL;\n",
    "\n",
    "Lingkup dibatasi pada data analisis saja, tidak termasuk melakukan prediction analysis. Diharapkan hasil olah data ini dapat menjadi acuan penyesuaian strategi produk dan manajemen risiko agar lebih relevan dengan kebutuhan nasabah"
   ]
  },
  {
   "cell_type": "markdown",
   "id": "bdb0f5f1",
   "metadata": {},
   "source": [
    "**SMART & Problem Statement**\n",
    "\n",
    "**SMART**\n",
    "\n",
    "**A. Specific**\n",
    "\n",
    "Tujuan yang ingin dicapai:\n",
    "-  Analisis portofolio dasar pengajuan credit card untuk mengetahui segmen nasabah pengajuan kartu kredit.\n",
    "-  Identifikasi segmen nasabah berisiko berdasarkan .\n",
    "-  Memberikan rekomendasi bisnis dan manajemen risiko\n",
    "\n",
    "Tahapan: \n",
    "\n",
    "- Membuat problem statement \n",
    "- Data preparation dan data cleaning \n",
    "- Eksplorasi data dan analisis\n",
    "- Memberikan kesimpulan dan rekomendasi\n",
    "\n",
    "Pihak yang terlibat:\n",
    "Data scientist, Divisi kredit, Direktur bisnis\n",
    "\n",
    "**B. Measurable**\n",
    "\n",
    "-  Mengetahui gambaran portofolio dasar kualitas kredit dari calon nasabah.\n",
    "-  Mengetahui distribusi calon nasabah laki-laki (M) dan perempuan (F), sumber penghasilan, status keluarga/pernikahan, rentang usia dan kualitas kredit.\n",
    "-  Mengetahui bagaimana kondisi kualitas dan riwayat NPL nasabah eksisting di bank.\n",
    "-  Mengetahui beberapa faktor yang berhubungan dengan riwayat NPL.\n",
    "-  Memberikan minimal 1 sudut pandang implikasi bisnis dan rekomendasi kebijakan manajemen risiko.\n",
    "\n",
    "**C. Achievable**\n",
    "-  Tujuan ini realistis dan dapat dicapai dalam lingkup proyek analisis data eksplorasi. Sumber daya (Data Scientist, knowledge, data historis, dan alat analisis) tersedia.\n",
    "-  Fokus pada analisis deskriptif dan inferensial, bukan prediktif, untuk membatasi kompleksitas tugas ke tingkat yang masih bisa dikelola.\n",
    "-  Dataset yang tersedia sudah memiliki informasi relevan yang dibutuhkan untuk analisis ini.\n",
    "\n",
    "**D. Relevant**\n",
    "\n",
    "-  Sesuai dengan tujuan bisnis bank untuk mengelola portofolio kredit secara efektif, meminimalisasi risiko, dan mengakses debitur potensial untuk meningkatkan potensi pendapatan bunga dan mengetahui faktor yang berhubungan dengan NPL.\n",
    "-  Wawasan yang diperoleh akan mendukung pengambilan keputusan strategis dalam penawaran produk dan penilaian risiko.\n",
    "-  Secara langsung mengatasi kebutuhan bank untuk memahami data mereka lebih baik demi efisiensi waktu dan optimasi bisnis.\n",
    "\n",
    "**E. Time-bound**\n",
    "\n",
    "Dapat diselesaikan dalam waktu 1 bulan ke depan dengan pertimbangan ketersediaan sumber daya dan kepuasan konsumen (terkait kecepatan membuat keputusan kredit).\n"
   ]
  },
  {
   "cell_type": "markdown",
   "id": "b1238109",
   "metadata": {},
   "source": [
    "Untuk menjawab permasalahan maka akan dibangun beberapa problem statement dengan metode 5W+1H, sebagai berikut:\n",
    "\n",
    "Untuk data pengajuan kredit:\n",
    "1.  Bagaimana distribusi nasabah yang mengajukan fasilitas CC berdasarkan jenis kelamin?\n",
    "2.  Calon debitur dengan sumber penghasilan apa yang paling banyak mengajukan fasilitas CC?\n",
    "3.  Bagaimana distribusi calon debitur berdasarkan status pernikahan?\n",
    "4.  Pada rentang usia berapa mereka paling banyak mengajukan kredit?\n",
    "5.  Bagaimana kondisi kolektibilitas dan kualitas calon debitur di bank?\n",
    "\n",
    "Untuk data riwayat/histor kredit:\n",
    "1.  Bagaimana kondisi kolektibilitas, kualitas nasabah  dan NPL?\n"
   ]
  },
  {
   "cell_type": "markdown",
   "id": "d24f928c",
   "metadata": {},
   "source": [
    "# 3. Data Loading"
   ]
  },
  {
   "cell_type": "markdown",
   "id": "c017f12b",
   "metadata": {},
   "source": [
    "Tahap awal yang harus dilakukan adalah melakukan import library untuk memperlancar proses pengerjaan analisis."
   ]
  },
  {
   "cell_type": "code",
   "execution_count": 6,
   "id": "74c7bc9f",
   "metadata": {},
   "outputs": [],
   "source": [
    "import pandas as pd\n",
    "import numpy as np\n",
    "from datetime import datetime\n",
    "from pandas.tseries.offsets import DateOffset\n",
    "from scipy import stats\n",
    "import matplotlib.pyplot as plt\n",
    "import seaborn as sns\n",
    "from scipy.stats import chi2_contingency"
   ]
  },
  {
   "cell_type": "code",
   "execution_count": 7,
   "id": "5c3e2f0a",
   "metadata": {},
   "outputs": [],
   "source": [
    "df_cust = pd.read_csv('application_record.csv')"
   ]
  },
  {
   "cell_type": "code",
   "execution_count": 8,
   "id": "3246e60d",
   "metadata": {},
   "outputs": [],
   "source": [
    "df_cr = pd.read_csv('credit_record.csv')"
   ]
  },
  {
   "cell_type": "markdown",
   "id": "b5c26808",
   "metadata": {},
   "source": [
    "# 4. Data Cleaning"
   ]
  },
  {
   "cell_type": "markdown",
   "id": "c9b626f8",
   "metadata": {},
   "source": [
    "Pada tahap ini akan dilakukan beberapa hal seperti checking informasi tabel, penambahan kolom, mengelola duplicate value, mengelola missing value, dll. Tahap Data Cleaning akan dibagi menjadi 2 bagian yaitu pertama untuk data frame Credit Card Application Record dan kedua untuk data frame credit record."
   ]
  },
  {
   "cell_type": "markdown",
   "id": "9b78f326",
   "metadata": {},
   "source": [
    "## Data Frame Credit Card Application Record"
   ]
  },
  {
   "cell_type": "code",
   "execution_count": 9,
   "id": "f6b19f95",
   "metadata": {},
   "outputs": [
    {
     "name": "stdout",
     "output_type": "stream",
     "text": [
      "<class 'pandas.core.frame.DataFrame'>\n",
      "RangeIndex: 438557 entries, 0 to 438556\n",
      "Data columns (total 18 columns):\n",
      " #   Column               Non-Null Count   Dtype  \n",
      "---  ------               --------------   -----  \n",
      " 0   ID                   438557 non-null  int64  \n",
      " 1   CODE_GENDER          438557 non-null  object \n",
      " 2   FLAG_OWN_CAR         438557 non-null  object \n",
      " 3   FLAG_OWN_REALTY      438557 non-null  object \n",
      " 4   CNT_CHILDREN         438557 non-null  int64  \n",
      " 5   AMT_INCOME_TOTAL     438557 non-null  float64\n",
      " 6   NAME_INCOME_TYPE     438557 non-null  object \n",
      " 7   NAME_EDUCATION_TYPE  438557 non-null  object \n",
      " 8   NAME_FAMILY_STATUS   438557 non-null  object \n",
      " 9   NAME_HOUSING_TYPE    438557 non-null  object \n",
      " 10  DAYS_BIRTH           438557 non-null  int64  \n",
      " 11  DAYS_EMPLOYED        438557 non-null  int64  \n",
      " 12  FLAG_MOBIL           438557 non-null  int64  \n",
      " 13  FLAG_WORK_PHONE      438557 non-null  int64  \n",
      " 14  FLAG_PHONE           438557 non-null  int64  \n",
      " 15  FLAG_EMAIL           438557 non-null  int64  \n",
      " 16  OCCUPATION_TYPE      304354 non-null  object \n",
      " 17  CNT_FAM_MEMBERS      438557 non-null  float64\n",
      "dtypes: float64(2), int64(8), object(8)\n",
      "memory usage: 60.2+ MB\n"
     ]
    }
   ],
   "source": [
    "# Cek Informasi\n",
    "df_cust.info()"
   ]
  },
  {
   "cell_type": "code",
   "execution_count": 10,
   "id": "7b0b66c2",
   "metadata": {},
   "outputs": [
    {
     "data": {
      "text/html": [
       "<div>\n",
       "<style scoped>\n",
       "    .dataframe tbody tr th:only-of-type {\n",
       "        vertical-align: middle;\n",
       "    }\n",
       "\n",
       "    .dataframe tbody tr th {\n",
       "        vertical-align: top;\n",
       "    }\n",
       "\n",
       "    .dataframe thead th {\n",
       "        text-align: right;\n",
       "    }\n",
       "</style>\n",
       "<table border=\"1\" class=\"dataframe\">\n",
       "  <thead>\n",
       "    <tr style=\"text-align: right;\">\n",
       "      <th></th>\n",
       "      <th>ID</th>\n",
       "      <th>CODE_GENDER</th>\n",
       "      <th>FLAG_OWN_CAR</th>\n",
       "      <th>FLAG_OWN_REALTY</th>\n",
       "      <th>CNT_CHILDREN</th>\n",
       "      <th>AMT_INCOME_TOTAL</th>\n",
       "      <th>NAME_INCOME_TYPE</th>\n",
       "      <th>NAME_EDUCATION_TYPE</th>\n",
       "      <th>NAME_FAMILY_STATUS</th>\n",
       "      <th>NAME_HOUSING_TYPE</th>\n",
       "      <th>DAYS_BIRTH</th>\n",
       "      <th>DAYS_EMPLOYED</th>\n",
       "      <th>FLAG_MOBIL</th>\n",
       "      <th>FLAG_WORK_PHONE</th>\n",
       "      <th>FLAG_PHONE</th>\n",
       "      <th>FLAG_EMAIL</th>\n",
       "      <th>OCCUPATION_TYPE</th>\n",
       "      <th>CNT_FAM_MEMBERS</th>\n",
       "    </tr>\n",
       "  </thead>\n",
       "  <tbody>\n",
       "    <tr>\n",
       "      <th>0</th>\n",
       "      <td>5008804</td>\n",
       "      <td>M</td>\n",
       "      <td>Y</td>\n",
       "      <td>Y</td>\n",
       "      <td>0</td>\n",
       "      <td>427500.0</td>\n",
       "      <td>Working</td>\n",
       "      <td>Higher education</td>\n",
       "      <td>Civil marriage</td>\n",
       "      <td>Rented apartment</td>\n",
       "      <td>-12005</td>\n",
       "      <td>-4542</td>\n",
       "      <td>1</td>\n",
       "      <td>1</td>\n",
       "      <td>0</td>\n",
       "      <td>0</td>\n",
       "      <td>NaN</td>\n",
       "      <td>2.0</td>\n",
       "    </tr>\n",
       "    <tr>\n",
       "      <th>1</th>\n",
       "      <td>5008805</td>\n",
       "      <td>M</td>\n",
       "      <td>Y</td>\n",
       "      <td>Y</td>\n",
       "      <td>0</td>\n",
       "      <td>427500.0</td>\n",
       "      <td>Working</td>\n",
       "      <td>Higher education</td>\n",
       "      <td>Civil marriage</td>\n",
       "      <td>Rented apartment</td>\n",
       "      <td>-12005</td>\n",
       "      <td>-4542</td>\n",
       "      <td>1</td>\n",
       "      <td>1</td>\n",
       "      <td>0</td>\n",
       "      <td>0</td>\n",
       "      <td>NaN</td>\n",
       "      <td>2.0</td>\n",
       "    </tr>\n",
       "  </tbody>\n",
       "</table>\n",
       "</div>"
      ],
      "text/plain": [
       "        ID CODE_GENDER FLAG_OWN_CAR FLAG_OWN_REALTY  CNT_CHILDREN  \\\n",
       "0  5008804           M            Y               Y             0   \n",
       "1  5008805           M            Y               Y             0   \n",
       "\n",
       "   AMT_INCOME_TOTAL NAME_INCOME_TYPE NAME_EDUCATION_TYPE NAME_FAMILY_STATUS  \\\n",
       "0          427500.0          Working    Higher education     Civil marriage   \n",
       "1          427500.0          Working    Higher education     Civil marriage   \n",
       "\n",
       "  NAME_HOUSING_TYPE  DAYS_BIRTH  DAYS_EMPLOYED  FLAG_MOBIL  FLAG_WORK_PHONE  \\\n",
       "0  Rented apartment      -12005          -4542           1                1   \n",
       "1  Rented apartment      -12005          -4542           1                1   \n",
       "\n",
       "   FLAG_PHONE  FLAG_EMAIL OCCUPATION_TYPE  CNT_FAM_MEMBERS  \n",
       "0           0           0             NaN              2.0  \n",
       "1           0           0             NaN              2.0  "
      ]
     },
     "execution_count": 10,
     "metadata": {},
     "output_type": "execute_result"
    }
   ],
   "source": [
    "df_cust.head(2)"
   ]
  },
  {
   "cell_type": "markdown",
   "id": "6a222a01",
   "metadata": {},
   "source": [
    "Tabel menunjukkan bahwa terdapat baris `Null` di kolom `OCCUPATION_TYPE`, yang mengakibatkan perbedaan antara jumlah baris non-null dan jumlah total baris, yaitu sekitar 304.354. Kita akan membahas hal ini nanti.\n",
    "\n",
    "Salah satu kolom yang perlu diperhatikan pemaknaannya berdasarkan informasi yang disertai di dataset yaitu:\n",
    "\n",
    "`DAYS_BIRTH` yang memiliki angka maksimal 0 (hari ini) dan kemudian hitung mundur. Angka -1 adalah kemarin, -2 adalah 2 hari lalu, dan seterusnya. Dengan kata lain ini adalah umur dalam hari dihitung mundur."
   ]
  },
  {
   "cell_type": "markdown",
   "id": "4b5fb6ae",
   "metadata": {},
   "source": [
    "### Add New Column"
   ]
  },
  {
   "cell_type": "markdown",
   "id": "62bc71de",
   "metadata": {},
   "source": [
    "Pada bagian ini akan ditambahkan beberapa kolom yang dapat membantu untuk lebih memahami data frame ini. Kolom yang ditambah merupakan penerjemahan dari kolom-kolom dasar bawaan dari dataset."
   ]
  },
  {
   "cell_type": "code",
   "execution_count": 11,
   "id": "2bf54ca7",
   "metadata": {},
   "outputs": [
    {
     "name": "stdout",
     "output_type": "stream",
     "text": [
      "        ID  WORK_YEARS  AGE_DAYS  AGE_YEARS\n",
      "0  5008804          12     12005         32\n",
      "1  5008805          12     12005         32\n",
      "2  5008806           3     21474         58\n",
      "3  5008808           8     19110         52\n",
      "4  5008809           8     19110         52\n"
     ]
    }
   ],
   "source": [
    "today_date = datetime(2025, 7, 13)\n",
    "\n",
    "# Menambahkan kolom WORK_YEARS\n",
    "df_cust['WORK_YEARS']=(df_cust['DAYS_EMPLOYED'].abs()/365.25).astype(int)\n",
    "\n",
    "# Menambahkan kolom AGE_DAYS dan AGE_YEARS berdasarkan DAYS_BIRTH\n",
    "\n",
    "df_cust['AGE_DAYS']=df_cust['DAYS_BIRTH'].abs()\n",
    "\n",
    "df_cust['AGE_YEARS']=(df_cust['DAYS_BIRTH'].abs()/365.25).astype(int)\n",
    "\n",
    "#Tampilkan hasil\n",
    "print(df_cust[['ID','WORK_YEARS','AGE_DAYS','AGE_YEARS']].head())"
   ]
  },
  {
   "cell_type": "markdown",
   "id": "18b4ecd6",
   "metadata": {},
   "source": [
    "Kolom-kolom `WORK_YEARS`, `AGE_DAYS`, dan `AGE_YEARS` telah berhasil dibuat seperti yang ditunjukkan pada tabel. Kolom ini selanjutnya lebih mudah untuk digunakan."
   ]
  },
  {
   "cell_type": "markdown",
   "id": "1afc670c",
   "metadata": {},
   "source": [
    "### Add New Column: Income Category (Binning)"
   ]
  },
  {
   "cell_type": "code",
   "execution_count": 12,
   "id": "369ddf02",
   "metadata": {},
   "outputs": [
    {
     "name": "stdout",
     "output_type": "stream",
     "text": [
      "        ID  AMT_INCOME_TOTAL INCOME_LEVEL\n",
      "0  5008804          427500.0         HIGH\n",
      "1  5008805          427500.0         HIGH\n",
      "2  5008806          112500.0          LOW\n",
      "3  5008808          270000.0         HIGH\n",
      "4  5008809          270000.0         HIGH\n"
     ]
    }
   ],
   "source": [
    "# Membuat Kategori Harga (binning) menggunakan quantile\n",
    "\n",
    "bins_income = [df_cust['AMT_INCOME_TOTAL'].min() - 1,\n",
    "               df_cust['AMT_INCOME_TOTAL'].quantile(0.33),\n",
    "               df_cust['AMT_INCOME_TOTAL'].quantile(0.66),\n",
    "               df_cust['AMT_INCOME_TOTAL'].max() + 1]\n",
    "\n",
    "labels_income = ['LOW', 'MODERATE', 'HIGH']\n",
    "df_cust['INCOME_LEVEL'] = pd.cut(df_cust['AMT_INCOME_TOTAL'], bins=bins_income, labels=labels_income, right=True)\n",
    "\n",
    "# Cek hasil\n",
    "print(df_cust[['ID','AMT_INCOME_TOTAL','INCOME_LEVEL']].head())"
   ]
  },
  {
   "cell_type": "markdown",
   "id": "66a0ed50",
   "metadata": {},
   "source": [
    "Kolom `INCOME_LEVEL` telah berhasil ditambahkan untuk mengelompokkan jumlah income. Selanjutnya, kita akan mencoba menemukan dan mengelola nilai duplikat setelah ini agar data lebih bersih."
   ]
  },
  {
   "cell_type": "markdown",
   "id": "fc43289a",
   "metadata": {},
   "source": [
    "### Managing Duplicate Value"
   ]
  },
  {
   "cell_type": "markdown",
   "id": "cc0f6815",
   "metadata": {},
   "source": [
    "Umumnya, data duplikat dapat ditemukan berdasarkan ID karena setiap kolom diwakili oleh sebuah ID. Dalam industri perbankan, ID disebut sebagai nomor Customer Information File (CIF)."
   ]
  },
  {
   "cell_type": "code",
   "execution_count": 13,
   "id": "1f80ecb6",
   "metadata": {},
   "outputs": [
    {
     "name": "stdout",
     "output_type": "stream",
     "text": [
      "\n",
      "The IDs that have duplicates are as follows::\n",
      "         data_recorded\n",
      "ID                    \n",
      "7022197              2\n",
      "7022327              2\n",
      "7023108              2\n",
      "7023651              2\n",
      "7024111              2\n",
      "Max of duplicate per ID: data_recorded    2\n",
      "dtype: int64\n",
      "\n",
      "Amount of duplicated ID: 47 IDs\n"
     ]
    }
   ],
   "source": [
    "count_ID = df_cust.groupby('ID').agg(\n",
    "    data_recorded =('ID','count')\n",
    ")\n",
    "count_ID.sort_values(by='data_recorded', ascending=False)\n",
    "\n",
    "filter_count_ID = count_ID[count_ID['data_recorded'] > 1]\n",
    "amount_ID_duplicated = len(filter_count_ID)\n",
    "max_ID_duplicated = count_ID.max()\n",
    "\n",
    "\n",
    "print()\n",
    "print('The IDs that have duplicates are as follows::')\n",
    "print(filter_count_ID.head())\n",
    "print(f'Max of duplicate per ID: {max_ID_duplicated}\\n')\n",
    "print(f'Amount of duplicated ID: {amount_ID_duplicated} IDs')"
   ]
  },
  {
   "cell_type": "markdown",
   "id": "92547e8c",
   "metadata": {},
   "source": [
    "Temuan menunjukkan bahwa jumlah maksimum data duplikat adalah 2 untuk setiap ID. Jumlah ID duplikat adalah 48 ID, dan dalam situasi nyata, nasabah ini kemungkinan mengajukan kartu kredit lebih dari sekali ke bank karena berbagai alasan. Dalam industri perbankan, hal ini dianggap normal, karena keputusan pada akhirnya bergantung pada kebijakan internal bank. Nantinya, kita akan menghapus semua duplikat dan hanya menyimpan yang terbaru."
   ]
  },
  {
   "cell_type": "markdown",
   "id": "39e34a38",
   "metadata": {},
   "source": [
    "### Remove Duplicate Data"
   ]
  },
  {
   "cell_type": "markdown",
   "id": "7644eb6e",
   "metadata": {},
   "source": [
    "Hapus duplikat, simpan hanya data terbaru. Kita bisa melakukannya dengan menggunakan kolom `DAYS_BIRTH`, karena kolom tersebut diisi dengan bilangan bulat yang dihitung mundur dari '0' (hari ini/hari ekstraksi data). Dalam hal ini, nilai absolut `DAYS_BIRTH` yang lebih besar berarti semakin tua pelanggan dan semakin baru aplikasi kreditnya. Jadi, kita harus menyimpan data pertama."
   ]
  },
  {
   "cell_type": "code",
   "execution_count": 14,
   "id": "a809bf33",
   "metadata": {},
   "outputs": [
    {
     "name": "stdout",
     "output_type": "stream",
     "text": [
      "<class 'pandas.core.frame.DataFrame'>\n",
      "RangeIndex: 438510 entries, 0 to 438509\n",
      "Data columns (total 3 columns):\n",
      " #   Column       Non-Null Count   Dtype \n",
      "---  ------       --------------   ----- \n",
      " 0   ID           438510 non-null  int64 \n",
      " 1   CODE_GENDER  438510 non-null  object\n",
      " 2   AGE_YEARS    438510 non-null  int64 \n",
      "dtypes: int64(2), object(1)\n",
      "memory usage: 10.0+ MB\n",
      "None\n"
     ]
    }
   ],
   "source": [
    "df_cust_sort = df_cust.sort_values(by=['ID','AGE_DAYS'], ascending=[True, False])\n",
    "\n",
    "df_cust_deduplicate = df_cust_sort.drop_duplicates(subset='ID', keep='first').reset_index()\n",
    "\n",
    "df_cust = df_cust_deduplicate\n",
    "\n",
    "print(df_cust[['ID','CODE_GENDER','AGE_YEARS']].info())"
   ]
  },
  {
   "cell_type": "markdown",
   "id": "f9f4eede",
   "metadata": {},
   "source": [
    "Hasil di atas memberi tahu kita bahwa jumlah baris berkurang, berubah dari 438.557 menjadi 438.510 atau pengurangan sebanyak 47 baris. Sesuai hasil temuan jumlah data duplikat di atas."
   ]
  },
  {
   "cell_type": "markdown",
   "id": "0ce7202e",
   "metadata": {},
   "source": [
    "### Unique Value"
   ]
  },
  {
   "cell_type": "code",
   "execution_count": 15,
   "id": "38e87f32",
   "metadata": {},
   "outputs": [
    {
     "name": "stdout",
     "output_type": "stream",
     "text": [
      "CODE_GENDER\n",
      "['M' 'F']\n",
      "FLAG_OWN_CAR\n",
      "['Y' 'N']\n",
      "FLAG_OWN_REALTY\n",
      "['Y' 'N']\n",
      "NAME_INCOME_TYPE\n",
      "['Working' 'Commercial associate' 'Pensioner' 'State servant' 'Student']\n",
      "NAME_EDUCATION_TYPE\n",
      "['Higher education' 'Secondary / secondary special' 'Incomplete higher'\n",
      " 'Lower secondary' 'Academic degree']\n",
      "NAME_FAMILY_STATUS\n",
      "['Civil marriage' 'Married' 'Single / not married' 'Separated' 'Widow']\n",
      "NAME_HOUSING_TYPE\n",
      "['Rented apartment' 'House / apartment' 'Municipal apartment'\n",
      " 'With parents' 'Co-op apartment' 'Office apartment']\n",
      "FLAG_MOBIL\n",
      "[1]\n",
      "FLAG_WORK_PHONE\n",
      "[1 0]\n",
      "FLAG_PHONE\n",
      "[0 1]\n",
      "FLAG_EMAIL\n",
      "[0 1]\n",
      "OCCUPATION_TYPE\n",
      "[nan 'Security staff' 'Sales staff' 'Accountants' 'Laborers' 'Managers'\n",
      " 'Drivers' 'Core staff' 'High skill tech staff' 'Cleaning staff'\n",
      " 'Private service staff' 'Cooking staff' 'Low-skill Laborers'\n",
      " 'Medicine staff' 'Secretaries' 'Waiters/barmen staff' 'HR staff'\n",
      " 'Realty agents' 'IT staff']\n"
     ]
    }
   ],
   "source": [
    "for i in df_cust[['CODE_GENDER','FLAG_OWN_CAR','FLAG_OWN_REALTY', 'NAME_INCOME_TYPE',\n",
    "               'NAME_EDUCATION_TYPE','NAME_FAMILY_STATUS','NAME_HOUSING_TYPE','FLAG_MOBIL',\n",
    "               'FLAG_WORK_PHONE','FLAG_PHONE','FLAG_EMAIL','OCCUPATION_TYPE']]:\n",
    "  print(i)\n",
    "  print(df_cust[i].unique())"
   ]
  },
  {
   "cell_type": "markdown",
   "id": "98be021f",
   "metadata": {},
   "source": [
    "Hasil di atas menunjukkan bahwa terdapat banyak kolom kategori yang memiliki variasi tipe data nominal yang terbatas (5-6 variasi), kecuali kolom `OCCUPATION_TYPE` yang tampaknya memiliki banyak variasi data di dalamnya."
   ]
  },
  {
   "cell_type": "markdown",
   "id": "ec858623",
   "metadata": {},
   "source": [
    "Kolom `OCCUPATION_TYPE` berisi NaN, seperti yang telah disebutkan sebelumnya. `OCCUPATION_TYPE` merupakan data pendukung untuk kategorisasi di `NAME_INCOME_TYPE`.\n",
    "\n",
    "Mengapa kolom ini kosong? Hal ini dapat disebabkan oleh beberapa alasan: nasabah membiarkannya kosong karena alasan kerahasiaan, tidak diwajibkan oleh bank, ketidakpatuhan nasabah, atau kesalahan karyawan yang tidak memasukkan data nasabah dengan benar. Apa pun alasannya, hal ini dapat menyebabkan penurunan skor kredit. Untuk tugas ini, kita akan mengisi NaN dengan \"No Information\" atau \"No Info\"."
   ]
  },
  {
   "cell_type": "markdown",
   "id": "06b217ee",
   "metadata": {},
   "source": [
    "### Manage Missing Value"
   ]
  },
  {
   "cell_type": "markdown",
   "id": "307502c2",
   "metadata": {},
   "source": [
    "Seperti yang telah disebutkan sebelumnya, pada kolom `OCCUPATION_TYPE` ada baris `Null` sehingga ada selisih antara jumlah non-null dengan total jumlah baris sekitar 304.354 baris. We will give it a treatment as follow:"
   ]
  },
  {
   "cell_type": "code",
   "execution_count": 16,
   "id": "c31d4091",
   "metadata": {},
   "outputs": [],
   "source": [
    "df_cust['OCCUPATION_TYPE'] = df_cust['OCCUPATION_TYPE'].fillna('No Info')"
   ]
  },
  {
   "cell_type": "code",
   "execution_count": 17,
   "id": "3700107c",
   "metadata": {},
   "outputs": [
    {
     "name": "stdout",
     "output_type": "stream",
     "text": [
      "<class 'pandas.core.frame.DataFrame'>\n",
      "RangeIndex: 438510 entries, 0 to 438509\n",
      "Data columns (total 2 columns):\n",
      " #   Column           Non-Null Count   Dtype \n",
      "---  ------           --------------   ----- \n",
      " 0   ID               438510 non-null  int64 \n",
      " 1   OCCUPATION_TYPE  438510 non-null  object\n",
      "dtypes: int64(1), object(1)\n",
      "memory usage: 6.7+ MB\n"
     ]
    }
   ],
   "source": [
    "df_cust[['ID','OCCUPATION_TYPE']].info()"
   ]
  },
  {
   "cell_type": "markdown",
   "id": "1af132bf",
   "metadata": {},
   "source": [
    "### Data Final 1"
   ]
  },
  {
   "cell_type": "markdown",
   "id": "23da64d3",
   "metadata": {},
   "source": [
    "Data cleaned untuk data frame credit card application record telah selesai."
   ]
  },
  {
   "cell_type": "code",
   "execution_count": 18,
   "id": "b1c20b4b",
   "metadata": {},
   "outputs": [],
   "source": [
    "df_cust_ready = df_cust"
   ]
  },
  {
   "cell_type": "markdown",
   "id": "b85de12e",
   "metadata": {},
   "source": [
    "## Data Frame Credit Record"
   ]
  },
  {
   "cell_type": "markdown",
   "id": "f437b49d",
   "metadata": {},
   "source": [
    "Ini adalah bagian kedua proses data cleaning dimana data yang akan dibersihkan adalah data frame Credit Record. Data credit record berisi data nasabah/peminjam dengan fasilitas kartu kredit yang sudah aktif/dicatat oleh di database."
   ]
  },
  {
   "cell_type": "markdown",
   "id": "810fd007",
   "metadata": {},
   "source": [
    "### Table Info"
   ]
  },
  {
   "cell_type": "code",
   "execution_count": 19,
   "id": "1787bc04",
   "metadata": {},
   "outputs": [
    {
     "name": "stdout",
     "output_type": "stream",
     "text": [
      "<class 'pandas.core.frame.DataFrame'>\n",
      "RangeIndex: 1048575 entries, 0 to 1048574\n",
      "Data columns (total 3 columns):\n",
      " #   Column          Non-Null Count    Dtype \n",
      "---  ------          --------------    ----- \n",
      " 0   ID              1048575 non-null  int64 \n",
      " 1   MONTHS_BALANCE  1048575 non-null  int64 \n",
      " 2   STATUS          1048575 non-null  object\n",
      "dtypes: int64(2), object(1)\n",
      "memory usage: 24.0+ MB\n"
     ]
    }
   ],
   "source": [
    "df_cr.info()"
   ]
  },
  {
   "cell_type": "markdown",
   "id": "cf952ecb",
   "metadata": {},
   "source": [
    "Pada dataframe Credit Record terdapat 3 kolom asli dari Dataset yaitu `ID`, `MONTHS_BALANCE`, `STATUS`. Berdasarkan informasi yang diberikan di sumber data, kolom-kolom tersebut dapat didefinisikan sebagai berikut:\n",
    "\n",
    "ID : Client number\t \n",
    "\n",
    "MONTHS_BALANCE: Ini merupakan bulan pencatatan status kredit. Bulan ekstraksi data adalah starting point, dan selanjutnya dihitung mundur, 0 adalah bulan ini, -1 adalah bulan lalu, -2 adalah 2 bulan lalu, dan seterusnya. \n",
    "\n",
    "STATUS : Keterangan kolektibilitas kredit, ini adalah kateogrisasi yang umum digunakan di Bank dan bagian terpenting dari penilaian kualitas aktiva produktif bank.\n",
    "\n",
    "0: 1-29 hari lewat jatuh tempo\n",
    "\n",
    "1: 30-59 hari lewat jatuh tempo\n",
    "\n",
    "2: 60-89 hari lewat jatuh tempo\n",
    "\n",
    "3: 90-119 hari lewat jatuh tempo\n",
    "\n",
    "4: 120-149 hari lewat jatuh tempo\n",
    "\n",
    "5: Utang jatuh tempo atau macet, penghapusan utang lebih dari 150 hari\n",
    "\n",
    "C: lunas bulan itu\n",
    "\n",
    "X: Tidak ada pinjaman bulan ini\n",
    "\n",
    "Kolektibilitas tersebut dapat dikelompokkan lagi ke dalam kelompok Non Performing Loan (Coll 3, 4 ,5). "
   ]
  },
  {
   "cell_type": "markdown",
   "id": "c78581da",
   "metadata": {},
   "source": [
    "### Unique Value"
   ]
  },
  {
   "cell_type": "code",
   "execution_count": 20,
   "id": "2e99bdd1",
   "metadata": {},
   "outputs": [
    {
     "name": "stdout",
     "output_type": "stream",
     "text": [
      "MONTHS_BALANCE\n",
      "[  0  -1  -2  -3  -4  -5  -6  -7  -8  -9 -10 -11 -12 -13 -14 -15 -16 -17\n",
      " -18 -19 -20 -21 -22 -23 -24 -25 -26 -27 -28 -29 -30 -31 -32 -33 -34 -35\n",
      " -36 -37 -38 -39 -40 -41 -42 -43 -44 -45 -46 -47 -48 -49 -50 -51 -52 -53\n",
      " -54 -55 -56 -57 -58 -59 -60]\n",
      "STATUS\n",
      "['X' '0' 'C' '1' '2' '3' '4' '5']\n"
     ]
    }
   ],
   "source": [
    "for i in df_cr[['MONTHS_BALANCE', 'STATUS']]:\n",
    "  print(i)\n",
    "  print(df_cr[i].unique())"
   ]
  },
  {
   "cell_type": "markdown",
   "id": "2ac39a73",
   "metadata": {},
   "source": [
    "Terlihat pada kolom `MONTHS_BALANCE` berisi angka mulai dari 0 dan hitung mundur sampai -60.  Berdasarkan penjelasan dari dataset, 0 adalah bulan ini, -1 adalah bulan lalu, -2 adalah 2 bulan lalu, dan seterusnya. Sehingga bisa diartikan Bank memiliki rekaman selama 60 bulan (5 tahun) tentang status debiturnya. \n",
    "\n",
    "Sedangkan pada kolom `STATUS` berisi 7 nilai unik yang mewakili masing-masing status kredit, apakah itu pelunasan kredit atau hari telat pembayaran. Penjelasan nilai `STATUS` sebagai berikut:\n",
    "\n",
    "-  0: 1-29 days past due \n",
    "\n",
    "-  1: 30-59 days past due \n",
    "\n",
    "-  2: 60-89 days overdue \n",
    "\n",
    "-  3: 90-119 days overdue \n",
    "\n",
    "-  4: 120-149 days overdue \n",
    "\n",
    "-  5: Overdue or bad debts, write-offs for more than 150 days \n",
    "\n",
    "-  C: paid off that month \n",
    "\n",
    "-  X: No loan for the month "
   ]
  },
  {
   "cell_type": "markdown",
   "id": "72ced73f",
   "metadata": {},
   "source": [
    "### Add New Column for Last Collectibility"
   ]
  },
  {
   "cell_type": "markdown",
   "id": "a3783c9b",
   "metadata": {},
   "source": [
    "Setelah mengetahui nilai unik maka untuk melengkapi tabel agar lebih informatif akan ditambahkan kolom baru bernama LAST_STATUS yang berisi informasi mengenai status kredit terakhir. Status kredit terakhir adalah status pada baris MONTH_BALANCE terbesar, untuk masing-masing ID."
   ]
  },
  {
   "cell_type": "code",
   "execution_count": 21,
   "id": "23d49bc2",
   "metadata": {},
   "outputs": [
    {
     "name": "stdout",
     "output_type": "stream",
     "text": [
      "        ID  MONTHS_BALANCE STATUS LAST_STATUS\n",
      "0  5001711               0      X           X\n",
      "1  5001711              -1      0           X\n",
      "2  5001711              -2      0           X\n",
      "3  5001711              -3      0           X\n",
      "4  5001712               0      C           C\n"
     ]
    }
   ],
   "source": [
    "# 1. Urutkan tabel berdasarkan ID (ascending) dan MONTHS_BALANCE (descending,bulan terkini)\n",
    "df_cr_sorted = df_cr.sort_values(by=['ID','MONTHS_BALANCE'], ascending=[True, False])\n",
    "\n",
    "# 2. Drop duplikat ID\n",
    "df_cr_last_status = df_cr_sorted.drop_duplicates(subset=['ID'], keep='first')\n",
    "\n",
    "# 3. Membuat DataFrame baru yang hanya berisi ID dan LAST_STATUS\n",
    "df_cr_last_status = df_cr_last_status[['ID', 'STATUS']].rename(columns={'STATUS': 'LAST_STATUS'})\n",
    "\n",
    "# 4. Menggabungkan kembali LAST_STATUS ke DataFrame asli\n",
    "df_cr_2 = pd.merge(df_cr, df_cr_last_status, on='ID', how='left')\n",
    "\n",
    "print(df_cr_2.head())\n",
    "\n"
   ]
  },
  {
   "cell_type": "markdown",
   "id": "e1b08e29",
   "metadata": {},
   "source": [
    "### Add New Column : NPL History Flag dan NPL HIstory"
   ]
  },
  {
   "cell_type": "markdown",
   "id": "274b9f28",
   "metadata": {},
   "source": [
    "Pada bagian ini akan ditambahkan NPL History FLag dan NPL History (Riwayat NPL) dengan tujuan untuk mengetahui apakah nasabah pernah memiliki riwayat non performing loan. Ini sangat penting bagi Bank untuk mengetahui kondisi dari portofolionya dan tingkat kesehatan pemberian kreditnya."
   ]
  },
  {
   "cell_type": "code",
   "execution_count": 22,
   "id": "936c5912",
   "metadata": {},
   "outputs": [
    {
     "name": "stdout",
     "output_type": "stream",
     "text": [
      "              ID  MONTHS_BALANCE STATUS LAST_STATUS  NPL_HIST_FLAG  \\\n",
      "1041052  5149838             -28      1           C           True   \n",
      "1041053  5149838             -29      1           C           True   \n",
      "1041054  5149838             -30      1           C           True   \n",
      "1041055  5149838             -31      1           C           True   \n",
      "1041056  5149838             -32      0           C           True   \n",
      "\n",
      "             NPL_HISTORY  \n",
      "1041052  Has NPL history  \n",
      "1041053  Has NPL history  \n",
      "1041054  Has NPL history  \n",
      "1041055  Has NPL history  \n",
      "1041056  Has NPL history  \n"
     ]
    }
   ],
   "source": [
    "# Menetapkan list kriteria Non Performing Loan (NPL)\n",
    "npl_coll = ['3', '4', '5']\n",
    "\n",
    "df_cr_2['NPL_HIST_FLAG'] = df_cr_2['STATUS'].isin(npl_coll).groupby(df_cr_2['ID']).transform('any')\n",
    "\n",
    "df_cr_2['NPL_HISTORY'] = df_cr_2['NPL_HIST_FLAG'].apply(lambda x: 'Has NPL history' if x else 'No NPL history')\n",
    "\n",
    "# df_cr_2[df_cr_2['NPL_HIST_FLAG']==True].tail() # untuk cek baris dengan nilai NPL_FLAG == True\n",
    "\n",
    "print(df_cr_2[df_cr_2['NPL_HIST_FLAG']==True].tail())"
   ]
  },
  {
   "cell_type": "markdown",
   "id": "09f33dab",
   "metadata": {},
   "source": [
    "### Add New Column : Low Quality Flag dan Quality"
   ]
  },
  {
   "cell_type": "markdown",
   "id": "a076ce90",
   "metadata": {},
   "source": [
    "Kolom ini juga hampir seperti kolom non performing loan, namun pada kolom low quality flag dan quality menggunakan asumsi yang sedikit berbeda yaitu:\n",
    "\n",
    "1. Jika nasabah pernah memiliki low quality coll [1, 2, 3, 4, 5, X] maka disebut sebagai `Low Quality`.\n",
    "2. Jika nasabah hanya pernah memiliki high quality coll [C, 0], maka disebut sebagai `Prospect`."
   ]
  },
  {
   "cell_type": "code",
   "execution_count": 23,
   "id": "f79223b2",
   "metadata": {},
   "outputs": [
    {
     "data": {
      "text/html": [
       "<div>\n",
       "<style scoped>\n",
       "    .dataframe tbody tr th:only-of-type {\n",
       "        vertical-align: middle;\n",
       "    }\n",
       "\n",
       "    .dataframe tbody tr th {\n",
       "        vertical-align: top;\n",
       "    }\n",
       "\n",
       "    .dataframe thead th {\n",
       "        text-align: right;\n",
       "    }\n",
       "</style>\n",
       "<table border=\"1\" class=\"dataframe\">\n",
       "  <thead>\n",
       "    <tr style=\"text-align: right;\">\n",
       "      <th></th>\n",
       "      <th>ID</th>\n",
       "      <th>MONTHS_BALANCE</th>\n",
       "      <th>STATUS</th>\n",
       "      <th>LAST_STATUS</th>\n",
       "      <th>NPL_HIST_FLAG</th>\n",
       "      <th>NPL_HISTORY</th>\n",
       "      <th>LOW_QUALITY_FLAG</th>\n",
       "      <th>QUALITY</th>\n",
       "    </tr>\n",
       "  </thead>\n",
       "  <tbody>\n",
       "    <tr>\n",
       "      <th>747216</th>\n",
       "      <td>5105325</td>\n",
       "      <td>-5</td>\n",
       "      <td>0</td>\n",
       "      <td>3</td>\n",
       "      <td>True</td>\n",
       "      <td>Has NPL history</td>\n",
       "      <td>True</td>\n",
       "      <td>Low Quality</td>\n",
       "    </tr>\n",
       "    <tr>\n",
       "      <th>747217</th>\n",
       "      <td>5105325</td>\n",
       "      <td>-6</td>\n",
       "      <td>0</td>\n",
       "      <td>3</td>\n",
       "      <td>True</td>\n",
       "      <td>Has NPL history</td>\n",
       "      <td>True</td>\n",
       "      <td>Low Quality</td>\n",
       "    </tr>\n",
       "    <tr>\n",
       "      <th>747218</th>\n",
       "      <td>5105325</td>\n",
       "      <td>-7</td>\n",
       "      <td>1</td>\n",
       "      <td>3</td>\n",
       "      <td>True</td>\n",
       "      <td>Has NPL history</td>\n",
       "      <td>True</td>\n",
       "      <td>Low Quality</td>\n",
       "    </tr>\n",
       "    <tr>\n",
       "      <th>747219</th>\n",
       "      <td>5105325</td>\n",
       "      <td>-8</td>\n",
       "      <td>1</td>\n",
       "      <td>3</td>\n",
       "      <td>True</td>\n",
       "      <td>Has NPL history</td>\n",
       "      <td>True</td>\n",
       "      <td>Low Quality</td>\n",
       "    </tr>\n",
       "    <tr>\n",
       "      <th>747220</th>\n",
       "      <td>5105325</td>\n",
       "      <td>-9</td>\n",
       "      <td>0</td>\n",
       "      <td>3</td>\n",
       "      <td>True</td>\n",
       "      <td>Has NPL history</td>\n",
       "      <td>True</td>\n",
       "      <td>Low Quality</td>\n",
       "    </tr>\n",
       "  </tbody>\n",
       "</table>\n",
       "</div>"
      ],
      "text/plain": [
       "             ID  MONTHS_BALANCE STATUS LAST_STATUS  NPL_HIST_FLAG  \\\n",
       "747216  5105325              -5      0           3           True   \n",
       "747217  5105325              -6      0           3           True   \n",
       "747218  5105325              -7      1           3           True   \n",
       "747219  5105325              -8      1           3           True   \n",
       "747220  5105325              -9      0           3           True   \n",
       "\n",
       "            NPL_HISTORY  LOW_QUALITY_FLAG      QUALITY  \n",
       "747216  Has NPL history              True  Low Quality  \n",
       "747217  Has NPL history              True  Low Quality  \n",
       "747218  Has NPL history              True  Low Quality  \n",
       "747219  Has NPL history              True  Low Quality  \n",
       "747220  Has NPL history              True  Low Quality  "
      ]
     },
     "execution_count": 23,
     "metadata": {},
     "output_type": "execute_result"
    }
   ],
   "source": [
    "low_quality_coll = ['1', '2', '3', '4', '5', 'X']\n",
    "\n",
    "df_cr_2['LOW_QUALITY_FLAG'] = df_cr_2['STATUS'].isin(low_quality_coll).groupby(df_cr_2['ID']).transform('any')\n",
    "\n",
    "df_cr_2['QUALITY'] = df_cr_2['LOW_QUALITY_FLAG'].apply(lambda x: 'Low Quality' if x else 'Prospect')\n",
    "\n",
    "# df_cr_2.drop(columns=['Bad_Status_Count', 'Good_Status_Count'], inplace=True)\n",
    "df_cr_2\n",
    "\n",
    "# Test\n",
    "df_cr_2[df_cr_2['LAST_STATUS']=='3'].tail()"
   ]
  },
  {
   "cell_type": "markdown",
   "id": "12fc8326",
   "metadata": {},
   "source": [
    "### Data Final 2"
   ]
  },
  {
   "cell_type": "markdown",
   "id": "9a1647ff",
   "metadata": {},
   "source": [
    "Data final clean dari Credit Record yang akan digunakan adalah data rekaman terakhir setiap ID."
   ]
  },
  {
   "cell_type": "code",
   "execution_count": 24,
   "id": "9b9e69e0",
   "metadata": {},
   "outputs": [],
   "source": [
    "# Kita hanya akan menggunakan data posisi terkini\n",
    "\n",
    "# 1. Urutkan tabel berdasarkan ID (ascending) dan MONTHS_BALANCE (descending,bulan terakhir)\n",
    "df_cr_2_sorted = df_cr_2.sort_values(by=['ID','MONTHS_BALANCE'], ascending=[True, False])\n",
    "\n",
    "# 2. Drop duplikat ID\n",
    "df_cr_2_latest = df_cr_2_sorted.drop_duplicates(subset=['ID'], keep='first')\n",
    "\n",
    "# 3. Buat dataframe baru\n",
    "df_cr_to_merge = df_cr_2_latest.reset_index()\n",
    "\n",
    "# 4. Drop column index\n",
    "df_cr_to_merge.drop(columns='index', inplace=True)"
   ]
  },
  {
   "cell_type": "code",
   "execution_count": 25,
   "id": "37687a84",
   "metadata": {},
   "outputs": [
    {
     "name": "stdout",
     "output_type": "stream",
     "text": [
      "<class 'pandas.core.frame.DataFrame'>\n",
      "RangeIndex: 45985 entries, 0 to 45984\n",
      "Data columns (total 8 columns):\n",
      " #   Column            Non-Null Count  Dtype \n",
      "---  ------            --------------  ----- \n",
      " 0   ID                45985 non-null  int64 \n",
      " 1   MONTHS_BALANCE    45985 non-null  int64 \n",
      " 2   STATUS            45985 non-null  object\n",
      " 3   LAST_STATUS       45985 non-null  object\n",
      " 4   NPL_HIST_FLAG     45985 non-null  bool  \n",
      " 5   NPL_HISTORY       45985 non-null  object\n",
      " 6   LOW_QUALITY_FLAG  45985 non-null  bool  \n",
      " 7   QUALITY           45985 non-null  object\n",
      "dtypes: bool(2), int64(2), object(4)\n",
      "memory usage: 2.2+ MB\n"
     ]
    }
   ],
   "source": [
    "df_cr_to_merge.info()"
   ]
  },
  {
   "cell_type": "code",
   "execution_count": 26,
   "id": "43afbecc",
   "metadata": {},
   "outputs": [],
   "source": [
    "# Buat DataFrame Final untuk merger\n",
    "df_cr_ready = df_cr_to_merge"
   ]
  },
  {
   "cell_type": "markdown",
   "id": "a6ff1997",
   "metadata": {},
   "source": [
    "## Merge: Data CC Application Record dan Credit Record"
   ]
  },
  {
   "cell_type": "markdown",
   "id": "16bdd0b8",
   "metadata": {},
   "source": [
    "Pada bagian ini kita akan membuat tabel baru untuk melihat apakah calon debitur (applicant) telah memiliki riwayat kredit (credit record) di Bank. Hal ini penting untuk mengetahui apakah para calon debitur adalah benar-benar baru atau sudah pernah memiliki riwayat dan bagaimana riwayatnya.\n",
    "\n",
    "Caranya adalah dengan melakukan penggabungan (merging) data cleaned dari Credit Crad Application Record dan Credit Record. Data Application Record akan dijadikan table utama dan credit record akan diambil beberapa kolom penting saja yaitu kolom `ID`,`LAST_STATUS`, `NPL_HISTORY`, `QUALITY`. Seperti yang telah disebut sebelumnya, 3 kolom terakhir adalah kolom yang menunjukkan tingkat kualitas dan kolektibilitas kredit."
   ]
  },
  {
   "cell_type": "code",
   "execution_count": 27,
   "id": "ae34295b",
   "metadata": {},
   "outputs": [
    {
     "name": "stdout",
     "output_type": "stream",
     "text": [
      "<class 'pandas.core.frame.DataFrame'>\n",
      "RangeIndex: 438510 entries, 0 to 438509\n",
      "Data columns (total 26 columns):\n",
      " #   Column               Non-Null Count   Dtype   \n",
      "---  ------               --------------   -----   \n",
      " 0   index                438510 non-null  int64   \n",
      " 1   ID                   438510 non-null  int64   \n",
      " 2   CODE_GENDER          438510 non-null  object  \n",
      " 3   FLAG_OWN_CAR         438510 non-null  object  \n",
      " 4   FLAG_OWN_REALTY      438510 non-null  object  \n",
      " 5   CNT_CHILDREN         438510 non-null  int64   \n",
      " 6   AMT_INCOME_TOTAL     438510 non-null  float64 \n",
      " 7   NAME_INCOME_TYPE     438510 non-null  object  \n",
      " 8   NAME_EDUCATION_TYPE  438510 non-null  object  \n",
      " 9   NAME_FAMILY_STATUS   438510 non-null  object  \n",
      " 10  NAME_HOUSING_TYPE    438510 non-null  object  \n",
      " 11  DAYS_BIRTH           438510 non-null  int64   \n",
      " 12  DAYS_EMPLOYED        438510 non-null  int64   \n",
      " 13  FLAG_MOBIL           438510 non-null  int64   \n",
      " 14  FLAG_WORK_PHONE      438510 non-null  int64   \n",
      " 15  FLAG_PHONE           438510 non-null  int64   \n",
      " 16  FLAG_EMAIL           438510 non-null  int64   \n",
      " 17  OCCUPATION_TYPE      438510 non-null  object  \n",
      " 18  CNT_FAM_MEMBERS      438510 non-null  float64 \n",
      " 19  WORK_YEARS           438510 non-null  int64   \n",
      " 20  AGE_DAYS             438510 non-null  int64   \n",
      " 21  AGE_YEARS            438510 non-null  int64   \n",
      " 22  INCOME_LEVEL         438510 non-null  category\n",
      " 23  LAST_STATUS          36457 non-null   object  \n",
      " 24  NPL_HISTORY          36457 non-null   object  \n",
      " 25  QUALITY              36457 non-null   object  \n",
      "dtypes: category(1), float64(2), int64(12), object(11)\n",
      "memory usage: 84.1+ MB\n"
     ]
    }
   ],
   "source": [
    "# Condition merger\n",
    "columns_from_df_cr_ready = ['ID','LAST_STATUS', 'NPL_HISTORY', 'QUALITY']\n",
    "df_cr_ready_selected = df_cr_ready[columns_from_df_cr_ready]\n",
    "\n",
    "# Proses merger\n",
    "credit_merged = pd.merge(\n",
    "    df_cust_ready,    # DataFrame kiri (CC application)\n",
    "    df_cr_ready_selected,   # DataFrame kanan (credit record selected column)\n",
    "    on='ID',          # Kolom kunci untuk merge\n",
    "    how='left'        # Mempertahankan semua baris dari df_cr_selected\n",
    ")\n",
    "\n",
    "credit_merged.info()"
   ]
  },
  {
   "cell_type": "markdown",
   "id": "d55ef65c",
   "metadata": {},
   "source": [
    "Terlihat pada kolom `NPL_History` dan `QUALITY` ada baris `Null` sehingga ada selisih antara jumlah non-null dengan total jumlah baris sekitar 402.099 baris. Ini seharusnya juga terjadi pada kolom `LAST_STATUS` karena kolom tersebut tidak dapat dipisahkan dengan `NPL_HISTORY`. Untuk memastikannya kita bisa melakukan pengecekan unique value pada ke kolom tersebut."
   ]
  },
  {
   "cell_type": "code",
   "execution_count": 28,
   "id": "23b410bd",
   "metadata": {},
   "outputs": [
    {
     "name": "stdout",
     "output_type": "stream",
     "text": [
      "LAST_STATUS\n",
      "['C' '0' 'X' '1' '3' '5' '2' '4' nan]\n",
      "NPL_HISTORY\n",
      "['No NPL history' 'Has NPL history' nan]\n",
      "QUALITY\n",
      "['Low Quality' 'Prospect' nan]\n"
     ]
    }
   ],
   "source": [
    "for i in credit_merged[['LAST_STATUS','NPL_HISTORY','QUALITY']]:\n",
    "  print(i)\n",
    "  print(credit_merged[i].unique())"
   ]
  },
  {
   "cell_type": "markdown",
   "id": "1a336b47",
   "metadata": {},
   "source": [
    "### Managing Missing Values"
   ]
  },
  {
   "cell_type": "markdown",
   "id": "fe19d51c",
   "metadata": {},
   "source": [
    "Pada bagian ini akan dilakukan treatment terhadap missing value. Nasabah yang tidak memiliki historis maka kualitas kreditnya bisa diisi 'No Informatin`, 'No Info', dan sejenisnya, dari pada membiarkannya null."
   ]
  },
  {
   "cell_type": "code",
   "execution_count": 29,
   "id": "2b94d421",
   "metadata": {},
   "outputs": [
    {
     "name": "stdout",
     "output_type": "stream",
     "text": [
      "<class 'pandas.core.frame.DataFrame'>\n",
      "RangeIndex: 438510 entries, 0 to 438509\n",
      "Data columns (total 26 columns):\n",
      " #   Column               Non-Null Count   Dtype   \n",
      "---  ------               --------------   -----   \n",
      " 0   index                438510 non-null  int64   \n",
      " 1   ID                   438510 non-null  int64   \n",
      " 2   CODE_GENDER          438510 non-null  object  \n",
      " 3   FLAG_OWN_CAR         438510 non-null  object  \n",
      " 4   FLAG_OWN_REALTY      438510 non-null  object  \n",
      " 5   CNT_CHILDREN         438510 non-null  int64   \n",
      " 6   AMT_INCOME_TOTAL     438510 non-null  float64 \n",
      " 7   NAME_INCOME_TYPE     438510 non-null  object  \n",
      " 8   NAME_EDUCATION_TYPE  438510 non-null  object  \n",
      " 9   NAME_FAMILY_STATUS   438510 non-null  object  \n",
      " 10  NAME_HOUSING_TYPE    438510 non-null  object  \n",
      " 11  DAYS_BIRTH           438510 non-null  int64   \n",
      " 12  DAYS_EMPLOYED        438510 non-null  int64   \n",
      " 13  FLAG_MOBIL           438510 non-null  int64   \n",
      " 14  FLAG_WORK_PHONE      438510 non-null  int64   \n",
      " 15  FLAG_PHONE           438510 non-null  int64   \n",
      " 16  FLAG_EMAIL           438510 non-null  int64   \n",
      " 17  OCCUPATION_TYPE      438510 non-null  object  \n",
      " 18  CNT_FAM_MEMBERS      438510 non-null  float64 \n",
      " 19  WORK_YEARS           438510 non-null  int64   \n",
      " 20  AGE_DAYS             438510 non-null  int64   \n",
      " 21  AGE_YEARS            438510 non-null  int64   \n",
      " 22  INCOME_LEVEL         438510 non-null  category\n",
      " 23  LAST_STATUS          438510 non-null  object  \n",
      " 24  NPL_HISTORY          438510 non-null  object  \n",
      " 25  QUALITY              438510 non-null  object  \n",
      "dtypes: category(1), float64(2), int64(12), object(11)\n",
      "memory usage: 84.1+ MB\n"
     ]
    }
   ],
   "source": [
    "credit_merged['LAST_STATUS'] = credit_merged['LAST_STATUS'].fillna('No Info')\n",
    "credit_merged['NPL_HISTORY'] = credit_merged['NPL_HISTORY'].fillna('No Info')\n",
    "credit_merged['QUALITY'] = credit_merged['QUALITY'].fillna('No Info')\n",
    "\n",
    "credit_merged.info()"
   ]
  },
  {
   "cell_type": "markdown",
   "id": "1e8e30df",
   "metadata": {},
   "source": [
    "# 5. Data Exploration and Analysis"
   ]
  },
  {
   "cell_type": "markdown",
   "id": "d994a7a5",
   "metadata": {},
   "source": [
    "Pada bagian ini akan dilakukan eksplorasi data dan analisis dengan cara visualisasi dan statistik baik deskriptif maupun inferensial. Untuk melakukannya maka dibentuk problem statement sebagai berikut."
   ]
  },
  {
   "cell_type": "markdown",
   "id": "43d542cd",
   "metadata": {},
   "source": [
    "### Bagaimana distribusi gender nasabah yang mengajukan fasilitas CC?"
   ]
  },
  {
   "cell_type": "code",
   "execution_count": 30,
   "id": "fa3c3c6d",
   "metadata": {},
   "outputs": [
    {
     "data": {
      "image/png": "[encoded data removed]",
      "text/plain": [
       "<Figure size 1400x400 with 2 Axes>"
      ]
     },
     "metadata": {},
     "output_type": "display_data"
    }
   ],
   "source": [
    "# Data chart\n",
    "chart_1_data = credit_merged['CODE_GENDER'].value_counts() \n",
    "\n",
    "fig, axes = plt.subplots(nrows=1, ncols=2, figsize=(14, 4))\n",
    "\n",
    "# Subplot 1 (Pie Chart): Distribusi Gender\n",
    "chart_1_data.plot(\n",
    "    kind='pie',\n",
    "    autopct='%.2f%%', # Format persentase\n",
    "    startangle=90,\n",
    "    ax=axes[0],       # Gambar di subplot pertama (axes[0])\n",
    "    colors=['skyblue', 'lightcoral'] # Warna kustom\n",
    ")\n",
    "axes[0].set_title('% Calon Nasabah Berdasarkan Gender')\n",
    "axes[0].set_ylabel('')\n",
    "\n",
    "# Subplot 2 (Bar Chart): Jumlah nasabah berdasarkan gender\n",
    "chart_1_data.plot(\n",
    "    kind='bar',\n",
    "    ax=axes[1],       # Gambar di subplot kedua (axes[1])\n",
    "    color='lightgreen',\n",
    "    edgecolor='black'\n",
    ")\n",
    "axes[1].set_title('Jumlah Nasabah berdasarkan Gender')\n",
    "axes[1].set_xlabel('Gender')\n",
    "axes[1].set_ylabel('Jumlah')\n",
    "axes[1].tick_params(axis='x', rotation=0) # Pastikan label x tidak berputar\n",
    "\n",
    "# Data Labels pada Bar Chart\n",
    "for container in axes[1].containers:\n",
    "    axes[1].bar_label(container, fmt='%.0f', fontsize=9, color='black')"
   ]
  },
  {
   "cell_type": "markdown",
   "id": "c788057a",
   "metadata": {},
   "source": [
    "Mayoritas pemohon kartu kredit adalah perempuan, dengan jumlah dua kali lebih banyak dibandingkan pemohon laki-laki. Data ini mengindikasikan bahwa bank mungkin secara alami menarik lebih banyak pemohon perempuan, atau kampanye akuisisi/produk yang ada saat ini lebih resonan dengan audiens perempuan."
   ]
  },
  {
   "cell_type": "markdown",
   "id": "f0be24b4",
   "metadata": {},
   "source": [
    "### Calon debitur dengan sumber penghasilan apa yang paling banyak mengajukan fasilitas CC?"
   ]
  },
  {
   "cell_type": "code",
   "execution_count": 31,
   "id": "2bd97f57",
   "metadata": {},
   "outputs": [
    {
     "data": {
      "text/plain": [
       "Text(0, 0.5, 'Gender, Sumber Penghasilan')"
      ]
     },
     "execution_count": 31,
     "metadata": {},
     "output_type": "execute_result"
    },
    {
     "data": {
      "image/png": "[encoded data removed]",
      "text/plain": [
       "<Figure size 640x480 with 1 Axes>"
      ]
     },
     "metadata": {},
     "output_type": "display_data"
    }
   ],
   "source": [
    "chart_2 = credit_merged.groupby(['CODE_GENDER','NAME_INCOME_TYPE'])['ID'].count().plot(kind='barh')\n",
    "\n",
    "for container in chart_2.containers:\n",
    "    chart_2.bar_label(container, fmt='%.0f', fontsize=9, color='black')\n",
    "\n",
    "plt.title('Jumlah Pengajuan CC berdasarkan Gender dan Sumber Penghasilan')\n",
    "plt.xlabel('Jumlah Calon Nasabah')\n",
    "plt.ylabel('Gender, Sumber Penghasilan')"
   ]
  },
  {
   "cell_type": "markdown",
   "id": "efc660aa",
   "metadata": {},
   "source": [
    "Calon debitur paling banyak merupakan pekerja, baik laki-laki maupun perempuan. Jika tidak memperhatikan jenis kelamin, maka ranking 2 diikuti oleh commercial associate, pensioner, dan state servant (ASN). Ini memberi indikasi bahwa golongan pekerja yang paling banyak membutuhkan credit card.\n",
    "\n",
    "Baik (F, Student) maupun (M, Student) menunjukkan jumlah pengajuan yang sangat minim, hampir mendekati nol. Ini mungkin karena mahasiswa umumnya memiliki pendapatan terbatas atau tidak stabil, sehingga tidak memenuhi kriteria pengajuan kartu kredit atau memiliki kebutuhan yang berbeda.\n",
    "\n",
    "**Target Pasar Utama:** Segmen pemohon yang bekerja (\"Working\"), terutama perempuan yang bekerja, adalah target pasar paling besar dan dominan untuk pengajuan kartu kredit.\n",
    "\n",
    "**Peluang dan Tantangan**: Ada potensi untuk menganalisis lebih dalam segmen \"Commercial associate\" dan \"Pensioner\", terutama yang perempuan, karena mereka juga menyumbang jumlah yang signifikan. Segmen \"Student\" mungkin bukan target utama untuk produk kartu kredit standar, atau memerlukan produk khusus dengan kriteria yang berbeda."
   ]
  },
  {
   "cell_type": "markdown",
   "id": "52fe39e5",
   "metadata": {},
   "source": [
    "### Bagaimana distribusi calon debitur berdasarkan status pernikahan?"
   ]
  },
  {
   "cell_type": "code",
   "execution_count": 32,
   "id": "a3cf1886",
   "metadata": {},
   "outputs": [
    {
     "data": {
      "text/plain": [
       "Text(0, 0.5, 'Gender, Status Keluarga')"
      ]
     },
     "execution_count": 32,
     "metadata": {},
     "output_type": "execute_result"
    },
    {
     "data": {
      "image/png": "[encoded data removed]",
      "text/plain": [
       "<Figure size 640x480 with 1 Axes>"
      ]
     },
     "metadata": {},
     "output_type": "display_data"
    }
   ],
   "source": [
    "chart_3 = credit_merged.groupby(['CODE_GENDER','NAME_FAMILY_STATUS'])['ID'].count().plot(kind='barh')\n",
    "\n",
    "for container in chart_3.containers:\n",
    "    chart_3.bar_label(container, fmt='%.0f', fontsize=9, color='black')\n",
    "\n",
    "plt.title('Jumlah Pengajuan CC berdasarkan Gender dan Status Keluarga')\n",
    "plt.xlabel('Jumlah Calon Nasabah')\n",
    "plt.ylabel('Gender, Status Keluarga')"
   ]
  },
  {
   "cell_type": "markdown",
   "id": "81ee4e90",
   "metadata": {},
   "source": [
    "Secara keseluruhan, pemohon perempuan (F) dengan berbagai status pernikahan memiliki jumlah pengajuan yang lebih tinggi dibandingkan dengan pemohon laki-laki (M) pada status pernikahan yang setara.\n",
    "\n",
    "Kombinasi (F, Married) memiliki jumlah pengajuan tertinggi, mendekati 200.000. Ini menunjukkan bahwa perempuan yang sudah menikah adalah segmen pemohon terbesar.\n",
    "\n",
    "Kombinasi (M, Married) juga sangat signifikan, meskipun lebih rendah dari (F, Married), dengan jumlah pengajuan di atas 100.000.\n",
    "\n",
    "Ini mengindikasikan bahwa individu yang sudah menikah, baik laki-laki maupun perempuan, merupakan mayoritas pemohon.\n",
    "\n",
    "**Target Pasar Utama:** Segmen perempuan yang sudah menikah adalah target pasar yang paling besar untuk pengajuan kartu kredit."
   ]
  },
  {
   "cell_type": "markdown",
   "id": "032d5a21",
   "metadata": {},
   "source": [
    "### Pada rentang usia berapa mereka paling banyak mengajukan kredit?"
   ]
  },
  {
   "cell_type": "code",
   "execution_count": 33,
   "id": "ef57c628",
   "metadata": {},
   "outputs": [
    {
     "name": "stdout",
     "output_type": "stream",
     "text": [
      "Youngest age = 20\n",
      "Oldest age = 68\n"
     ]
    }
   ],
   "source": [
    "youngest_age = credit_merged['AGE_YEARS'].min()\n",
    "oldest_age = credit_merged['AGE_YEARS'].max()\n",
    "\n",
    "print(f'Youngest age = {youngest_age}')\n",
    "print(f'Oldest age = {oldest_age}')"
   ]
  },
  {
   "cell_type": "code",
   "execution_count": 34,
   "id": "ffc0fda4",
   "metadata": {},
   "outputs": [
    {
     "data": {
      "text/plain": [
       "Text(0, 0.5, 'Jumlah Pengajuan')"
      ]
     },
     "execution_count": 34,
     "metadata": {},
     "output_type": "execute_result"
    },
    {
     "data": {
      "image/png": "[encoded data removed]",
      "text/plain": [
       "<Figure size 600x400 with 1 Axes>"
      ]
     },
     "metadata": {},
     "output_type": "display_data"
    }
   ],
   "source": [
    "# 1. Mendefinisikan Bin untuk histogram menggunakan interval 5 tahun\n",
    "age_bins = [20, 25, 30, 35, 40, 45, 50, 55, 60, 65, 70]\n",
    "\n",
    "# 2. Ukuran chart\n",
    "plt.figure(figsize=(6, 4))\n",
    "\n",
    "# 3. Tampilkan histogram\n",
    "plt.hist(credit_merged['AGE_YEARS'], bins=age_bins, edgecolor='black', alpha=0.7)\n",
    "\n",
    "plt.title('Distribusi Umur Calon Nasabah')\n",
    "plt.xlabel('Umur')\n",
    "plt.ylabel('Jumlah Pengajuan')\n"
   ]
  },
  {
   "cell_type": "markdown",
   "id": "0b42c9ec",
   "metadata": {},
   "source": [
    "**Insight**\n",
    "\n",
    "Bagian tertinggi dari histogram berada di sekitar usia 35-45 tahun. Ini berarti mayoritas pemohon aplikasi kredit berada dalam rentang usia produktif ini. Ada puncak yang sangat jelas di sekitar 35-40 tahun dan 40-45 tahun, dengan frekuensi mendekati atau di atas 60.000 pemohon untuk masing-masing bin ini.\n",
    "\n",
    "Bank tampaknya memiliki daya tarik dari segmen usia 30 hingga 55 tahun sebagai target utama untuk aplikasi kredit, karena ini adalah kelompok usia dengan jumlah pemohon terbanyak."
   ]
  },
  {
   "cell_type": "markdown",
   "id": "7111ff25",
   "metadata": {},
   "source": [
    "### Bagaimana kondisi kualitas kredit dan NPL history dari calon nasabah?"
   ]
  },
  {
   "cell_type": "code",
   "execution_count": 35,
   "id": "e1834c45",
   "metadata": {},
   "outputs": [
    {
     "data": {
      "image/png": "[encoded data removed]",
      "text/plain": [
       "<Figure size 1400x400 with 2 Axes>"
      ]
     },
     "metadata": {},
     "output_type": "display_data"
    }
   ],
   "source": [
    "# Data chart\n",
    "fig, axes = plt.subplots(nrows=1, ncols=2, figsize=(14, 4))\n",
    "\n",
    "# Subplot 1 Bar Chart: Quality\n",
    "credit_merged['QUALITY'].value_counts().plot(\n",
    "    kind='bar',\n",
    "    ax=axes[0],       # Gambar di subplot kedua (axes[1])\n",
    "    color='lightgreen',\n",
    "    edgecolor='black'\n",
    ")\n",
    "axes[0].set_title('Jumlah Nasabah berdasarkan kategori Quality')\n",
    "axes[0].set_xlabel('Quality')\n",
    "axes[0].set_ylabel('Jumlah')\n",
    "axes[0].tick_params(axis='x', rotation=0) # Pastikan label x tidak berputar\n",
    "\n",
    "# Data Labels pada Bar Chart\n",
    "for container in axes[0].containers:\n",
    "    axes[0].bar_label(container, fmt='%.0f', fontsize=9, color='black')\n",
    "\n",
    "# Subplot 2 (Bar Chart): Jumlah nasabah berdasarkan gender\n",
    "credit_merged['NPL_HISTORY'].value_counts().plot(\n",
    "    kind='bar',\n",
    "    ax=axes[1],       # Gambar di subplot kedua (axes[1])\n",
    "    color='lightblue',\n",
    "    edgecolor='black'\n",
    ")\n",
    "axes[1].set_title('Jumlah Nasabah berdasarkan kategori NPL History')\n",
    "axes[1].set_xlabel('NPL History')\n",
    "axes[1].set_ylabel('Jumlah')\n",
    "axes[1].tick_params(axis='x', rotation=0) # Pastikan label x tidak berputar\n",
    "\n",
    "# Data Labels pada Bar Chart\n",
    "for container in axes[1].containers:\n",
    "    axes[1].bar_label(container, fmt='%.0f', fontsize=9, color='black')"
   ]
  },
  {
   "cell_type": "markdown",
   "id": "93d2a21e",
   "metadata": {},
   "source": [
    "Berdasarkan informasi di atas diketahui bahwa sebagain kecil calon nasabah memiliki riwayat kredit di Bank. Sisanya didominasi oleh calon nasabah yang tidak memiliki riwayat kredit (fresh customer)."
   ]
  },
  {
   "cell_type": "markdown",
   "id": "74173a9d",
   "metadata": {},
   "source": [
    "## Analisis pendukung: Data Credit Record"
   ]
  },
  {
   "cell_type": "code",
   "execution_count": 36,
   "id": "920cb12e",
   "metadata": {},
   "outputs": [
    {
     "name": "stdout",
     "output_type": "stream",
     "text": [
      "<class 'pandas.core.frame.DataFrame'>\n",
      "RangeIndex: 45985 entries, 0 to 45984\n",
      "Data columns (total 8 columns):\n",
      " #   Column            Non-Null Count  Dtype \n",
      "---  ------            --------------  ----- \n",
      " 0   ID                45985 non-null  int64 \n",
      " 1   MONTHS_BALANCE    45985 non-null  int64 \n",
      " 2   STATUS            45985 non-null  object\n",
      " 3   LAST_STATUS       45985 non-null  object\n",
      " 4   NPL_HIST_FLAG     45985 non-null  bool  \n",
      " 5   NPL_HISTORY       45985 non-null  object\n",
      " 6   LOW_QUALITY_FLAG  45985 non-null  bool  \n",
      " 7   QUALITY           45985 non-null  object\n",
      "dtypes: bool(2), int64(2), object(4)\n",
      "memory usage: 2.2+ MB\n"
     ]
    }
   ],
   "source": [
    "df_cr_ready.info()"
   ]
  },
  {
   "cell_type": "markdown",
   "id": "a07dbee3",
   "metadata": {},
   "source": [
    "### Bagaimana Kondisi Kolektibilitas Kredit terkini?"
   ]
  },
  {
   "cell_type": "code",
   "execution_count": 37,
   "id": "7d7528f9",
   "metadata": {},
   "outputs": [
    {
     "data": {
      "text/plain": [
       "Text(0, 0.5, 'Jumlah Nasabah')"
      ]
     },
     "execution_count": 37,
     "metadata": {},
     "output_type": "execute_result"
    },
    {
     "data": {
      "image/png": "[encoded data removed]",
      "text/plain": [
       "<Figure size 640x480 with 1 Axes>"
      ]
     },
     "metadata": {},
     "output_type": "display_data"
    }
   ],
   "source": [
    "coll_latest = df_cr_ready[df_cr_ready['MONTHS_BALANCE']==0]\n",
    "\n",
    "coll_freq = coll_latest['LAST_STATUS'].value_counts()\n",
    "ax = coll_freq.plot(kind='bar', color='green')\n",
    "\n",
    "for container in ax.containers:\n",
    "    ax.bar_label(container, fmt='%.0f', fontsize=9, color='black')\n",
    "\n",
    "plt.title('Kolektibilitas Saat Ini')\n",
    "plt.xlabel('Kolektibilitas')\n",
    "plt.ylabel('Jumlah Nasabah')"
   ]
  },
  {
   "cell_type": "markdown",
   "id": "7035d7ee",
   "metadata": {},
   "source": [
    "**Insight**\n",
    "\n",
    "Hasil di atas menunjukkan hal positif dan tantangan sebagai berikut:\n",
    "1.  Sebagian besar nasabah memiliki kolektibilitas sangat baik dimana didominasi oleh kuliatas C yang berarti nasabah rajin membayar penuh sesuai tagihan. Kemudian diikuti oleh nasabah dengan kolektibilitas 0 yaitu mereka yang terlambat bayar. \n",
    "2.  Nasabah dengan kualitas X juga cukup banyak, yang berarti banyak nasabah tidak menggunakan fasilitas credit card. Dalam kondisi ini bank harus melakukan langkah-langkah agar nasabah X menggunakan fasilitasnya supaya pendapatan dari fee credit card meningkat."
   ]
  },
  {
   "cell_type": "markdown",
   "id": "b32b6e89",
   "metadata": {},
   "source": [
    "### Bagaimana distribusi nasabah berdasarkan kualitasnya?"
   ]
  },
  {
   "cell_type": "code",
   "execution_count": 38,
   "id": "6b649e86",
   "metadata": {},
   "outputs": [
    {
     "data": {
      "text/plain": [
       "Text(0, 0.5, 'Jumlah Nasabah')"
      ]
     },
     "execution_count": 38,
     "metadata": {},
     "output_type": "execute_result"
    },
    {
     "data": {
      "image/png": "[encoded data removed]",
      "text/plain": [
       "<Figure size 640x480 with 1 Axes>"
      ]
     },
     "metadata": {},
     "output_type": "display_data"
    }
   ],
   "source": [
    "quality = coll_latest['QUALITY'].value_counts()\n",
    "ax = quality.plot(kind='bar', color='orange')\n",
    "\n",
    "for container in ax.containers:\n",
    "    ax.bar_label(container, fmt='%.0f', fontsize=9, color='black')\n",
    "\n",
    "plt.title('Distribusi Kualitas Nasabah Saat Ini')\n",
    "plt.xlabel('Kualitas')\n",
    "plt.ylabel('Jumlah Nasabah')"
   ]
  },
  {
   "cell_type": "markdown",
   "id": "680b4638",
   "metadata": {},
   "source": [
    "**Insight**\n",
    "\n",
    "Hasil di atas menunjukkan hal tantangan sebagai berikut:\n",
    "1.  Kondisi saat ini, sebagian besar nasabah memiliki kualitas Low Quality yang artinya frekuensi terjadinya riwayat `low colls > good colls`. Meskipun kondisi saat ini sudah jauh membaik. Artinya mereka punya rekam jejak low quality.\n",
    "2.  Terdapat nasabah prospect dengan jumlah cukup banyak, yang artinya frekuensi terjadinya riwayat `good colls > low colls`. Nasabah Prospect adalah yang wajib dijaga loyalitasnya karena yang paling berkontribusi terhadap kesehatan kredit Bank.\n",
    "\n",
    "Catatan:\n",
    "\n",
    "low_quality_coll = ['1', '2', '3', '4', '5', 'X']\n",
    "\n",
    "good_quality_coll = ['C', '0']"
   ]
  },
  {
   "cell_type": "markdown",
   "id": "9dfefc59",
   "metadata": {},
   "source": [
    "### Bagaimana kondisi riwayat NPL nasabah?"
   ]
  },
  {
   "cell_type": "code",
   "execution_count": 39,
   "id": "6c616db7",
   "metadata": {},
   "outputs": [
    {
     "data": {
      "text/plain": [
       "Text(0, 0.5, 'Jumlah Nasabah')"
      ]
     },
     "execution_count": 39,
     "metadata": {},
     "output_type": "execute_result"
    },
    {
     "data": {
      "image/png": "[encoded data removed]",
      "text/plain": [
       "<Figure size 640x480 with 1 Axes>"
      ]
     },
     "metadata": {},
     "output_type": "display_data"
    }
   ],
   "source": [
    "npl_bar = coll_latest['NPL_HISTORY'].value_counts()\n",
    "ax = npl_bar.plot(kind='bar', color='skyblue')\n",
    "\n",
    "for container in ax.containers:\n",
    "    ax.bar_label(container, fmt='%.0f', fontsize=9, color='black')\n",
    "\n",
    "plt.title('Distribusi Riwayat NPL Nasabah Saat Ini')\n",
    "plt.xlabel('Riwayat NPL')\n",
    "plt.ylabel('Jumlah Nasabah')"
   ]
  },
  {
   "cell_type": "markdown",
   "id": "63e1a46a",
   "metadata": {},
   "source": [
    "**Insight**\n",
    "\n",
    "Hasil di atas menunjukkan hal positif dan tantangan sebagai berikut:\n",
    "Kondisi saat ini menunjukkan sebagian besar nasabah tidak memiliki riwayat NPL. Terlihat aneh jika dibandingkan dengan banyaknya nasabah low quality bukan? Namun ini wajar, karena ini mengindikasikan sebagian besar nasabah low quality memiliki kualitas terburuk di Coll 1 dan 2.\n",
    "\n",
    "Ini bisa diartikan, kualitas nasabah secara umum sudah baik dan harus dipertahankan.\n",
    "\n",
    "Catatan:\n",
    "\n",
    "npl_coll = ['3', '4', '5']"
   ]
  },
  {
   "cell_type": "markdown",
   "id": "1c8422fc",
   "metadata": {},
   "source": [
    "## Bagaimana central of tendency income calon nasabah?"
   ]
  },
  {
   "cell_type": "markdown",
   "id": "9be70032",
   "metadata": {},
   "source": [
    "Berikut ini akan dicari central of tendency, skewness dan kurtosis test dari income calon nasabah untuk mengetahui bagaimana income ini tersebar atau terpusat. Analisis akan mencakup "
   ]
  },
  {
   "cell_type": "code",
   "execution_count": 53,
   "id": "b6fb79ce",
   "metadata": {},
   "outputs": [
    {
     "name": "stdout",
     "output_type": "stream",
     "text": [
      "Seluruh Nasabah:\n",
      "Mean income calon nasabah: US$ 187,523.90\n",
      "Median income calon nasabah: US$ 161,100.00\n",
      "Standar deviasi income calon nasabah: US$ 110,088.09\n",
      "Skewness income calon nasabah: 8.834605848482992\n",
      "Kurtosis income calon nasabah: 324.57079666892656\n"
     ]
    }
   ],
   "source": [
    "print('Seluruh Nasabah:')\n",
    "print(f'Mean income calon nasabah: US$ {credit_merged['AMT_INCOME_TOTAL'].mean():,.2f}')\n",
    "print(f'Median income calon nasabah: US$ {credit_merged['AMT_INCOME_TOTAL'].median():,.2f}')\n",
    "print(f'Standar deviasi income calon nasabah: US$ {credit_merged['AMT_INCOME_TOTAL'].std():,.2f}')\n",
    "print(f'Skewness income calon nasabah: {credit_merged['AMT_INCOME_TOTAL'].skew()}')\n",
    "print(f'Kurtosis income calon nasabah: {credit_merged['AMT_INCOME_TOTAL'].kurt()}')"
   ]
  },
  {
   "cell_type": "code",
   "execution_count": 55,
   "id": "52a0c42d",
   "metadata": {},
   "outputs": [
    {
     "name": "stdout",
     "output_type": "stream",
     "text": [
      "Nasabah Perempuan:\n",
      "Mean income calon nasabah: US$ 174,522.10 per annum\n",
      "Median income calon nasabah: US$ 157,500.00 per annum\n",
      "Standar deviasi income calon nasabah: US$ 95,701.21 per annum\n",
      "Skewness income calon nasabah: 3.3877682497312467\n",
      "Kurtosis income calon nasabah: 38.13366304486108\n"
     ]
    }
   ],
   "source": [
    "income_female = credit_merged.query(\"CODE_GENDER == 'F'\")\n",
    "\n",
    "print('Nasabah Perempuan:')\n",
    "print(f'Mean income calon nasabah: US$ {income_female['AMT_INCOME_TOTAL'].mean():,.2f} per annum')\n",
    "print(f'Median income calon nasabah: US$ {income_female['AMT_INCOME_TOTAL'].median():,.2f} per annum')\n",
    "print(f'Standar deviasi income calon nasabah: US$ {income_female['AMT_INCOME_TOTAL'].std():,.2f} per annum')\n",
    "print(f'Skewness income calon nasabah: {income_female['AMT_INCOME_TOTAL'].skew()}')\n",
    "print(f'Kurtosis income calon nasabah: {income_female['AMT_INCOME_TOTAL'].kurt()}')"
   ]
  },
  {
   "cell_type": "markdown",
   "id": "02c1598e",
   "metadata": {},
   "source": [
    "Data pendapatan calon nasabah sangat tidak simetris dan memiliki variasi yang tinggi. Sebagian besar calon nasabah memiliki pendapatan yang relatif rendah atau sedang (tercermin dari median yang lebih rendah), tetapi ada sejumlah kecil calon nasabah dengan pendapatan yang sangat tinggi yang \"menarik\" rata-rata ke atas dan menciptakan ekor panjang pada distribusi.\n",
    "\n",
    "Keberadaan outlier berpendapatan tinggi sangat kuat mempengaruhi mean dan standar deviasi.\n",
    "\n",
    "Hasil ini adalah gambaran mengenai distribusi income, namun apakah income adalah faktor yang berhubungan dengan NPL History? Harus dibuktikan melalui chi-square test.\n",
    "\n",
    "Dari hasil statistik ini juga kita bisa menghitung credit card limit secara kasar sebagai berikut:"
   ]
  },
  {
   "cell_type": "code",
   "execution_count": 68,
   "id": "fc9c0d05",
   "metadata": {},
   "outputs": [
    {
     "name": "stdout",
     "output_type": "stream",
     "text": [
      "Nasabah Perempuan:\n",
      "Median income per annum: US$ 157,500.00\n",
      "Median income per month: US$ 13,125.00\n",
      "Credit Card Limit (est): US$ 4,593.75\n"
     ]
    }
   ],
   "source": [
    "# Calculate estimated credit card limit for female customers\n",
    "print('Nasabah Perempuan:')\n",
    "median_income_female_per_annum = income_female['AMT_INCOME_TOTAL'].median()\n",
    "monthly_income_female = median_income_female_per_annum / 12\n",
    "debt_to_income_ratio = 0.35\n",
    "\n",
    "cc_limit_female = monthly_income_female * debt_to_income_ratio\n",
    "\n",
    "print(f'Median income per annum: US$ {median_income_female_per_annum:,.2f}')\n",
    "print(f'Median income per month: US$ {monthly_income_female:,.2f}')\n",
    "print(f'Credit Card Limit (est): US$ {cc_limit_female:,.2f}')\n"
   ]
  },
  {
   "cell_type": "markdown",
   "id": "96f7b5e0",
   "metadata": {},
   "source": [
    "## Apa faktor yang berhubungan dengan NPL History?"
   ]
  },
  {
   "cell_type": "markdown",
   "id": "aa97895e",
   "metadata": {},
   "source": [
    "Setelah mengetahui distribusi pengajuan kredit dari calon nasabah dan central tendency income calon nasabah, selanjutnya akan dicari tahu apa saja faktor-faktor yang memiliki hubungan signifikan dengan NPL History. Ini sangat penting bagi bank untuk mengetahui faktor-faktor tersebut untuk menjalankan prinsip kehati-hatian mereka.\n",
    "\n",
    "Apa yang harus dilakukan? Kita akan melakukan analisis korelasi dengan menggunakan Chi-Squared Test. Data yang digunakan adalah data pengajuan nasabah yang memiliki riwayat kredit.\n",
    "\n",
    "Hipotesis yang dibangun adalah:\n",
    "\n",
    "$H_0$: A variable dan `NPL_History` adalah independent\n",
    "\n",
    "$H_1$: A variable dan `NPL_History` adalah dependent\n",
    "\n",
    "Jika hasil `p-value < 0.05` maka `H0 ditolak`."
   ]
  },
  {
   "cell_type": "code",
   "execution_count": 42,
   "id": "80384196",
   "metadata": {},
   "outputs": [
    {
     "name": "stdout",
     "output_type": "stream",
     "text": [
      "P-value of CODE_GENDER and NPL History: 0.05110744260730313 \n",
      "P-value of FLAG_OWN_REALTY and NPL History: 0.005608938968180894 dan kedua variabel dependen\n",
      "P-value of FLAG_OWN_CAR and NPL History: 0.39316611069455865 \n",
      "P-value of NAME_INCOME_TYPE and NPL History: 0.0025790545006247967 dan kedua variabel dependen\n",
      "P-value of NAME_EDUCATION_TYPE and NPL History: 0.005908046458929081 dan kedua variabel dependen\n",
      "P-value of NAME_FAMILY_STATUS and NPL History: 0.0001871870724907097 dan kedua variabel dependen\n",
      "P-value of NAME_HOUSING_TYPE and NPL History: 0.00020225759110957897 dan kedua variabel dependen\n",
      "P-value of WORK_YEARS and NPL History: 0.03304309520668415 dan kedua variabel dependen\n",
      "P-value of QUALITY and NPL History: 2.9797796827859936e-45 dan kedua variabel dependen\n",
      "P-value of INCOME_LEVEL and NPL History: 0.9490104106123152 \n"
     ]
    }
   ],
   "source": [
    "sample1 = credit_merged[credit_merged['NPL_HISTORY']!= 'No Info']\n",
    "\n",
    "a_variabel = sample1[[\n",
    "  'CODE_GENDER','FLAG_OWN_REALTY', 'FLAG_OWN_CAR','NAME_INCOME_TYPE','NAME_EDUCATION_TYPE',\n",
    "  'NAME_FAMILY_STATUS', 'NAME_HOUSING_TYPE','WORK_YEARS', 'QUALITY', 'INCOME_LEVEL'\n",
    "  ]]\n",
    "\n",
    "for col in a_variabel:\n",
    "  cross = pd.crosstab(sample1[col],sample1['NPL_HISTORY'])\n",
    "  pval = stats.chi2_contingency(cross).pvalue\n",
    "  prompt = \"dan kedua variabel dependen\" if pval<0.05 else \"\"\n",
    "  print(f\"P-value of {col} and NPL History: {pval} {prompt}\")"
   ]
  },
  {
   "cell_type": "markdown",
   "id": "dfc3d5fa",
   "metadata": {},
   "source": [
    "**Insight**\n",
    "\n",
    "\n",
    "Faktor-faktor penting: Kepemilikan properti, tipe pendapatan, tingkat pendidikan, status keluarga, tipe tempat tinggal, kualitas debitur terbukti memiliki hubungan signifikan dengan riwayat NPL. Ini ditunjukkan nilai p-value yang lebih rendah dari 0,05.\n",
    "\n",
    "Ini berarti bank harus memprioritaskan faktor-faktor ini dalam penilaian risiko kredit mereka. Variabel-variabel ini adalah indikator penting yang dapat membantu bank memprediksi apakah seorang pemohon cenderung memiliki NPL di masa depan."
   ]
  },
  {
   "cell_type": "markdown",
   "id": "84461542",
   "metadata": {},
   "source": [
    "# Kesimpulan dan Rekomendasi"
   ]
  },
  {
   "cell_type": "markdown",
   "id": "09a3ad66",
   "metadata": {},
   "source": [
    "Berdasarkan seluruh proses yang telah dilakukan, dapat diberikan kesimpulan dan rekomendasi sebagai berikut:\n",
    "\n",
    "Kesimpulan dan rekomendasi untuk marketing:\n",
    "1.  Mayoritas pemohon kartu kredit adalah perempuan, dengan jumlah dua kali lebih banyak dibandingkan pemohon laki-laki. Akuisisi/inklusi produk yang ada saat ini lebih resonan dengan audiens perempuan.\n",
    "2.  Segmen pemohon yang bekerja (\"Working\"), terutama perempuan yang bekerja, adalah target pasar paling besar dan dominan untuk pengajuan kartu kredit. Ada potensi untuk menganalisis lebih dalam segmen \"Commercial associate\" dan \"Pensioner\", terutama yang perempuan, karena mereka juga menyumbang jumlah yang signifikan. Segmen \"Student\" mungkin bukan target utama untuk produk kartu kredit standar, atau memerlukan produk khusus dengan kriteria yang berbeda.\n",
    "3. Segmen perempuan yang sudah menikah adalah target pasar yang paling besar untuk pengajuan kartu kredit. \n",
    "4. Bank memiliki daya tarik dari segmen usia 30 hingga 55 tahun sebagai target utama untuk aplikasi kredit, karena ini adalah kelompok usia dengan jumlah pemohon terbanyak.\n",
    "\n",
    "Sehingga bisa diringkas: nasabah perempuan yang bekerja, sudah menikah, dengan rentang umur 30 dan 55 tahun adalah mereka yang paling tertarik mengakuisisi produk credit card bank. Sehingga bagian bisnis bisa melakukan improvisasi terkait fitur-fitur dan fasilitas yang sesuai dengan kondisi tersebut. Tujuannya adalah untuk meningkatkan kepuasan nasabah.\n",
    "\n",
    "\n",
    "Rekomendasi Manajemen Risiko:\n",
    "\n",
    "Kepemilikan properti, tipe pendapatan, tingkat pendidikan, status keluarga, tipe tempat tinggal, kualitas debitur terbukti memiliki hubungan signifikan dengan riwayat NPL. Faktor ini harus menjadi prioritas untuk diperhatikan dalam melakukan analisis credit scoring untuk approve credit card karena berhubungan dengan ada atau tidaknya NPL."
   ]
  },
  {
   "cell_type": "markdown",
   "id": "5304c743",
   "metadata": {},
   "source": [
    "# Save to CSV"
   ]
  },
  {
   "cell_type": "code",
   "execution_count": 43,
   "id": "047a7680",
   "metadata": {},
   "outputs": [],
   "source": [
    "credit_merged.to_csv('clean_data.csv')"
   ]
  }
 ],
 "metadata": {
  "kernelspec": {
   "display_name": "myenv",
   "language": "python",
   "name": "python3"
  },
  "language_info": {
   "codemirror_mode": {
    "name": "ipython",
    "version": 3
   },
   "file_extension": ".py",
   "mimetype": "text/x-python",
   "name": "python",
   "nbconvert_exporter": "python",
   "pygments_lexer": "ipython3",
   "version": "3.13.7"
  }
 },
 "nbformat": 4,
 "nbformat_minor": 5
}
